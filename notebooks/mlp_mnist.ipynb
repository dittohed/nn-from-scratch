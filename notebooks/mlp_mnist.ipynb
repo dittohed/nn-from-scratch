{
 "cells": [
  {
   "cell_type": "markdown",
   "metadata": {},
   "source": [
    "The aim of this notebook is to show:\n",
    "\n",
    "* how to train a simple MLP on MNIST data;\n",
    "* that the results are comparable to PyTorch implementation."
   ]
  },
  {
   "cell_type": "markdown",
   "metadata": {},
   "source": [
    "# Imports and constants"
   ]
  },
  {
   "cell_type": "code",
   "execution_count": 1,
   "metadata": {},
   "outputs": [],
   "source": [
    "import sys\n",
    "sys.path.append('../src')\n",
    "\n",
    "import numpy as np\n",
    "import matplotlib.pyplot as plt\n",
    "import mnist\n",
    "\n",
    "from tqdm import tqdm\n",
    "\n",
    "from models import Model\n",
    "from layers import Linear, Softmax, LayerTrainable, ReLU\n",
    "from losses import MultiCrossEntropy\n",
    "from utils import preprocess_mnist_imgs, onehot, accuracy\n",
    "from data import NumpyDataLoader"
   ]
  },
  {
   "cell_type": "code",
   "execution_count": 2,
   "metadata": {},
   "outputs": [],
   "source": [
    "DATASET_SIZE = 10000  # Use 60000 for full ImageNet\n",
    "\n",
    "HIDDEN_SIZE = 256\n",
    "N_EPOCHS = 30\n",
    "BATCH_SIZE = 128\n",
    "LR = 0.1\n",
    "\n",
    "N_RETRAIN = 5  # No. of trainings to compare custom impl with PyTorch "
   ]
  },
  {
   "cell_type": "markdown",
   "metadata": {},
   "source": [
    "# Load MNIST"
   ]
  },
  {
   "cell_type": "code",
   "execution_count": 3,
   "metadata": {},
   "outputs": [],
   "source": [
    "x_train = mnist.train_images()\n",
    "y_train = mnist.train_labels()\n",
    "\n",
    "img_size = x_train.shape[-1]  # Height and width of MNIST images\n",
    "\n",
    "# Use only `DATASET_SIZE` samples\n",
    "random_order = np.random.permutation(len(x_train))\n",
    "x_train = x_train[random_order][:DATASET_SIZE]\n",
    "y_train = y_train[random_order][:DATASET_SIZE]\n",
    "\n",
    "x_train = preprocess_mnist_imgs(x_train, img_size, flatten=True)\n",
    "y_train = onehot(y_train)"
   ]
  },
  {
   "cell_type": "code",
   "execution_count": 4,
   "metadata": {},
   "outputs": [],
   "source": [
    "x_val = preprocess_mnist_imgs(mnist.test_images(), img_size, flatten=True)\n",
    "y_val = mnist.test_labels()"
   ]
  },
  {
   "cell_type": "code",
   "execution_count": 5,
   "metadata": {},
   "outputs": [],
   "source": [
    "train_loader = NumpyDataLoader(x_train, y_train, BATCH_SIZE, shuffle=True)\n",
    "val_loader = NumpyDataLoader(x_val, y_val, BATCH_SIZE, shuffle=False)"
   ]
  },
  {
   "cell_type": "markdown",
   "metadata": {},
   "source": [
    "# Train with custom"
   ]
  },
  {
   "cell_type": "code",
   "execution_count": 6,
   "metadata": {},
   "outputs": [],
   "source": [
    "layers = [\n",
    "    Linear(img_size*img_size, HIDDEN_SIZE),\n",
    "    ReLU(),  # Sigmoid would also work\n",
    "    Linear(HIDDEN_SIZE, HIDDEN_SIZE),\n",
    "    ReLU(),\n",
    "    Linear(HIDDEN_SIZE, 10),\n",
    "    Softmax()\n",
    "]\n",
    "loss = MultiCrossEntropy()"
   ]
  },
  {
   "cell_type": "code",
   "execution_count": null,
   "metadata": {},
   "outputs": [],
   "source": [
    "accs_custom = []\n",
    "for i in range(N_RETRAIN):\n",
    "    print(f'\\n--- Training no. {i+1} ---')\n",
    "\n",
    "    # Re-initialize\n",
    "    for layer in layers:\n",
    "        if isinstance(layer, LayerTrainable):\n",
    "            layer.reset()\n",
    "    model = Model(layers)\n",
    "    \n",
    "    accs = []\n",
    "    for epoch in range(N_EPOCHS):\n",
    "        tqdm_it = tqdm(train_loader, total=len(train_loader), leave=True)\n",
    "        tqdm_it.set_description(f'Epoch: [{epoch+1}/{N_EPOCHS}]')\n",
    "\n",
    "        # Train\n",
    "        for x, y_true in tqdm_it:\n",
    "            y_proba = model.forward(x)\n",
    "            delta = loss.delta_fn(y_proba, y_true)\n",
    "            model.backward(delta, LR)\n",
    "\n",
    "        # Evaluate\n",
    "        y_pred = []\n",
    "        for x, _ in val_loader:\n",
    "            y_proba = model.forward(x, store_grad=False)\n",
    "            y_pred.append(np.argmax(y_proba, axis=1))\n",
    "        y_pred = np.concatenate(y_pred)\n",
    "\n",
    "        acc = accuracy(y_val, y_pred)\n",
    "        accs.append(acc)\n",
    "        print(f'Val. accuracy: {acc:.4f}')\n",
    "\n",
    "    accs_custom.append(accs)"
   ]
  },
  {
   "cell_type": "markdown",
   "metadata": {},
   "source": [
    "# Train with PyTorch"
   ]
  },
  {
   "cell_type": "code",
   "execution_count": 8,
   "metadata": {},
   "outputs": [],
   "source": [
    "import torch\n",
    "import torch.nn as nn\n",
    "import torch.optim as optim"
   ]
  },
  {
   "cell_type": "code",
   "execution_count": 9,
   "metadata": {},
   "outputs": [],
   "source": [
    "class TorchMLP(nn.Module):\n",
    "    def __init__(self, input_size, hidden_size, num_classes):\n",
    "        super(TorchMLP, self).__init__()\n",
    "        self.fc1 = nn.Linear(input_size, hidden_size)\n",
    "        self.fc2 = nn.Linear(hidden_size, hidden_size)\n",
    "        self.fc3 = nn.Linear(hidden_size, num_classes)\n",
    "\n",
    "    def forward(self, x):\n",
    "        x = nn.functional.relu(self.fc1(x))\n",
    "        x = nn.functional.relu(self.fc2(x))\n",
    "        x = self.fc3(x)\n",
    "        \n",
    "        return x"
   ]
  },
  {
   "cell_type": "code",
   "execution_count": 10,
   "metadata": {},
   "outputs": [],
   "source": [
    "criterion = nn.CrossEntropyLoss()"
   ]
  },
  {
   "cell_type": "code",
   "execution_count": null,
   "metadata": {},
   "outputs": [],
   "source": [
    "accs_torch = []\n",
    "for i in range(N_RETRAIN):\n",
    "    print(f'\\n--- Training no. {i+1} ---')\n",
    "\n",
    "    # Re-initialize\n",
    "    model = TorchMLP(img_size*img_size, HIDDEN_SIZE, 10)\n",
    "    optimizer = optim.SGD(model.parameters(), lr=LR, momentum=0.9)\n",
    "\n",
    "    accs = []\n",
    "    for epoch in range(N_EPOCHS):\n",
    "        tqdm_it = tqdm(train_loader, total=len(train_loader), leave=True)\n",
    "        tqdm_it.set_description(f'Epoch: [{epoch+1}/{N_EPOCHS}]')\n",
    "        \n",
    "        # Train\n",
    "        model.train()\n",
    "        for x, y_true in tqdm_it:\n",
    "            x = torch.tensor(x)\n",
    "            y_true = torch.tensor(y_true)\n",
    "\n",
    "            y_pred = model(x)\n",
    "            loss = criterion(y_pred, y_true)\n",
    "        \n",
    "            optimizer.zero_grad()\n",
    "            loss.backward()\n",
    "            optimizer.step()\n",
    "            \n",
    "        # Evaluate\n",
    "        model.eval()\n",
    "        y_pred = []\n",
    "        with torch.no_grad():\n",
    "            for x, _ in val_loader:\n",
    "                x = torch.tensor(x)\n",
    "                y_proba = model(x)\n",
    "                y_pred.append(torch.argmax(y_proba, axis=1).numpy())\n",
    "        y_pred = np.concatenate(y_pred)\n",
    "\n",
    "        acc = accuracy(y_val, y_pred)\n",
    "        accs.append(acc)\n",
    "        print(f'Val. accuracy: {acc:.4f}')\n",
    "\n",
    "    accs_torch.append(accs)"
   ]
  },
  {
   "cell_type": "markdown",
   "metadata": {},
   "source": [
    "# Compare"
   ]
  },
  {
   "cell_type": "code",
   "execution_count": 12,
   "metadata": {},
   "outputs": [],
   "source": [
    "def series_mean(series: list):\n",
    "    return np.array([\n",
    "        np.mean(elements)\n",
    "        for elements in zip(*series)\n",
    "    ])\n",
    "\n",
    "def series_std(series: list):\n",
    "    return np.array([\n",
    "        np.std(elements)\n",
    "        for elements in zip(*series)\n",
    "    ])"
   ]
  },
  {
   "cell_type": "code",
   "execution_count": 13,
   "metadata": {},
   "outputs": [],
   "source": [
    "mean_custom = series_mean(accs_custom)\n",
    "std_custom = series_std(accs_custom)\n",
    "\n",
    "mean_torch = series_mean(accs_torch)\n",
    "std_torch = series_std(accs_torch)"
   ]
  },
  {
   "cell_type": "code",
   "execution_count": 14,
   "metadata": {},
   "outputs": [
    {
     "data": {
      "image/png": "[encoded data removed]",
      "text/plain": [
       "<Figure size 640x480 with 1 Axes>"
      ]
     },
     "metadata": {},
     "output_type": "display_data"
    }
   ],
   "source": [
    "plt.plot(mean_custom, 'b', label='Custom (mean)')\n",
    "plt.plot(mean_custom-std_custom, 'b--', label='Custom (std.)')\n",
    "plt.plot(mean_custom+std_custom, 'b--')\n",
    "\n",
    "plt.plot(mean_torch, 'r', label='PyTorch (mean)')\n",
    "plt.plot(mean_torch-std_torch, 'r--', label='PyTorch (std.)')\n",
    "plt.plot(mean_torch+std_torch, 'r--')\n",
    "\n",
    "plt.legend()\n",
    "\n",
    "plt.xlabel('Epoch')\n",
    "plt.ylabel('Accuracy')\n",
    "plt.title('Mean val. accuracies over 5 trainings')\n",
    "plt.show()"
   ]
  },
  {
   "cell_type": "code",
   "execution_count": 15,
   "metadata": {},
   "outputs": [],
   "source": [
    "def series_best(series: list):\n",
    "    return np.array([\n",
    "        np.amax(s) for s in series\n",
    "    ])"
   ]
  },
  {
   "cell_type": "code",
   "execution_count": 16,
   "metadata": {},
   "outputs": [],
   "source": [
    "best_custom = series_best(accs_custom)\n",
    "best_torch = series_best(accs_torch)"
   ]
  },
  {
   "cell_type": "code",
   "execution_count": 17,
   "metadata": {},
   "outputs": [
    {
     "name": "stdout",
     "output_type": "stream",
     "text": [
      "Mean best accuracy (custom): 0.9665 ± 0.0007\n",
      "Mean best accuracy (PyTorch): 0.9665 ± 0.0008\n"
     ]
    }
   ],
   "source": [
    "print(f'Mean best accuracy (custom): {np.mean(best_custom):.4f} ± {np.std(best_custom):.4f}')\n",
    "print(f'Mean best accuracy (PyTorch): {np.mean(best_torch):.4f} ± {np.std(best_torch):.4f}')"
   ]
  }
 ],
 "metadata": {
  "kernelspec": {
   "display_name": "basic",
   "language": "python",
   "name": "python3"
  },
  "language_info": {
   "codemirror_mode": {
    "name": "ipython",
    "version": 3
   },
   "file_extension": ".py",
   "mimetype": "text/x-python",
   "name": "python",
   "nbconvert_exporter": "python",
   "pygments_lexer": "ipython3",
   "version": "3.10.12"
  }
 },
 "nbformat": 4,
 "nbformat_minor": 2
}
